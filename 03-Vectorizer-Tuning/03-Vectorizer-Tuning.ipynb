{
 "cells": [
  {
   "cell_type": "markdown",
   "metadata": {},
   "source": [
    "# Vectorizer Tuning"
   ]
  },
  {
   "cell_type": "code",
   "execution_count": 2,
   "metadata": {},
   "outputs": [
    {
     "data": {
      "text/html": [
       "<div>\n",
       "<style scoped>\n",
       "    .dataframe tbody tr th:only-of-type {\n",
       "        vertical-align: middle;\n",
       "    }\n",
       "\n",
       "    .dataframe tbody tr th {\n",
       "        vertical-align: top;\n",
       "    }\n",
       "\n",
       "    .dataframe thead th {\n",
       "        text-align: right;\n",
       "    }\n",
       "</style>\n",
       "<table border=\"1\" class=\"dataframe\">\n",
       "  <thead>\n",
       "    <tr style=\"text-align: right;\">\n",
       "      <th></th>\n",
       "      <th>target</th>\n",
       "      <th>reviews</th>\n",
       "    </tr>\n",
       "  </thead>\n",
       "  <tbody>\n",
       "    <tr>\n",
       "      <th>0</th>\n",
       "      <td>neg</td>\n",
       "      <td>plot : two teen couples go to a church party ,...</td>\n",
       "    </tr>\n",
       "    <tr>\n",
       "      <th>1</th>\n",
       "      <td>neg</td>\n",
       "      <td>the happy bastard's quick movie review \\ndamn ...</td>\n",
       "    </tr>\n",
       "    <tr>\n",
       "      <th>2</th>\n",
       "      <td>neg</td>\n",
       "      <td>it is movies like these that make a jaded movi...</td>\n",
       "    </tr>\n",
       "    <tr>\n",
       "      <th>3</th>\n",
       "      <td>neg</td>\n",
       "      <td>\" quest for camelot \" is warner bros . ' firs...</td>\n",
       "    </tr>\n",
       "    <tr>\n",
       "      <th>4</th>\n",
       "      <td>neg</td>\n",
       "      <td>synopsis : a mentally unstable man undergoing ...</td>\n",
       "    </tr>\n",
       "  </tbody>\n",
       "</table>\n",
       "</div>"
      ],
      "text/plain": [
       "  target                                            reviews\n",
       "0    neg  plot : two teen couples go to a church party ,...\n",
       "1    neg  the happy bastard's quick movie review \\ndamn ...\n",
       "2    neg  it is movies like these that make a jaded movi...\n",
       "3    neg   \" quest for camelot \" is warner bros . ' firs...\n",
       "4    neg  synopsis : a mentally unstable man undergoing ..."
      ]
     },
     "execution_count": 2,
     "metadata": {},
     "output_type": "execute_result"
    }
   ],
   "source": [
    "import pandas as pd\n",
    "\n",
    "data = pd.read_pickle(\"reviews_3\")\n",
    "\n",
    "data.head()"
   ]
  },
  {
   "cell_type": "markdown",
   "metadata": {},
   "source": [
    "The dataset is made up of positive and negative movie reviews."
   ]
  },
  {
   "cell_type": "markdown",
   "metadata": {},
   "source": [
    "## Preprocessing\n",
    "\n",
    "👇 Remove punctuation and lower case the text."
   ]
  },
  {
   "cell_type": "code",
   "execution_count": 3,
   "metadata": {},
   "outputs": [
    {
     "data": {
      "text/plain": [
       "0       plot  two teen couples go to a church party  d...\n",
       "1       the happy bastards quick movie review \\ndamn t...\n",
       "2       it is movies like these that make a jaded movi...\n",
       "3         quest for camelot  is warner bros   first fe...\n",
       "4       synopsis  a mentally unstable man undergoing p...\n",
       "                              ...                        \n",
       "1995    wow  what a movie  \\nits everything a movie ca...\n",
       "1996    richard gere can be a commanding actor  but he...\n",
       "1997    glorystarring matthew broderick  denzel washin...\n",
       "1998    steven spielbergs second epic film on world wa...\n",
       "1999    truman   trueman   burbank is the perfect name...\n",
       "Name: clean_text, Length: 2000, dtype: object"
      ]
     },
     "execution_count": 3,
     "metadata": {},
     "output_type": "execute_result"
    }
   ],
   "source": [
    "import string\n",
    "def remove_punct(text):\n",
    "    text = \"\".join([word for word in text if word not in string.punctuation])\n",
    "    return text.lower()\n",
    "\n",
    "data['clean_text'] = data['reviews'].apply(lambda x: remove_punct(x))\n",
    "data['clean_text']"
   ]
  },
  {
   "cell_type": "markdown",
   "metadata": {},
   "source": [
    "## Tuning"
   ]
  },
  {
   "cell_type": "markdown",
   "metadata": {},
   "source": [
    "👇 Tune a vectorizer of your choice (or try both!) and a MultinomialNB model simultaneously."
   ]
  },
  {
   "cell_type": "code",
   "execution_count": 4,
   "metadata": {
    "scrolled": true
   },
   "outputs": [
    {
     "name": "stdout",
     "output_type": "stream",
     "text": [
      "Fitting 5 folds for each of 9 candidates, totalling 45 fits\n",
      "Best parameters:  {'classifier__alpha': 0.1, 'vectorizer__ngram_range': (2, 2)}\n",
      "Best score:  0.8400000000000001\n"
     ]
    }
   ],
   "source": [
    "from sklearn.model_selection import GridSearchCV\n",
    "from sklearn.feature_extraction.text import CountVectorizer\n",
    "from sklearn.naive_bayes import MultinomialNB\n",
    "from sklearn.pipeline import Pipeline\n",
    "\n",
    "# Create Pipeline\n",
    "\n",
    "pipe = Pipeline([\n",
    "    ('vectorizer', CountVectorizer()),\n",
    "    ('classifier', MultinomialNB())\n",
    "])\n",
    "\n",
    "# Set parameters to search (model and vectorizer)\n",
    "\n",
    "param_grid = {\n",
    "    'vectorizer__ngram_range': [(1, 1), (2, 2), (3, 3)],\n",
    "    'classifier__alpha': [0.1, 0.5, 1.0]\n",
    "}\n",
    "\n",
    "# Perform grid search on pipeline\n",
    "grid = GridSearchCV(pipe, param_grid=param_grid, cv=5, verbose=1, scoring= \"accuracy\", refit=True)\n",
    "grid.fit(data['clean_text'], data['target'])\n",
    "\n",
    "# Print best parameters and score\n",
    "print(\"Best parameters: \", grid.best_params_)\n",
    "print(\"Best score: \", grid.best_score_)"
   ]
  },
  {
   "cell_type": "code",
   "execution_count": null,
   "metadata": {},
   "outputs": [],
   "source": []
  },
  {
   "cell_type": "code",
   "execution_count": 7,
   "metadata": {},
   "outputs": [
    {
     "name": "stdout",
     "output_type": "stream",
     "text": [
      "Azure topics:  []\n",
      "LDA topic distribution:  [[0.29022329 0.59743036 0.11234635]]\n",
      "LDA topic:  1\n"
     ]
    },
    {
     "ename": "IndexError",
     "evalue": "list index out of range",
     "output_type": "error",
     "traceback": [
      "\u001b[1;31m---------------------------------------------------------------------------\u001b[0m",
      "\u001b[1;31mIndexError\u001b[0m                                Traceback (most recent call last)",
      "Input \u001b[1;32mIn [7]\u001b[0m, in \u001b[0;36m<cell line: 55>\u001b[1;34m()\u001b[0m\n\u001b[0;32m     52\u001b[0m \u001b[38;5;28mprint\u001b[39m(\u001b[38;5;124m\"\u001b[39m\u001b[38;5;124mLDA topic: \u001b[39m\u001b[38;5;124m\"\u001b[39m, lda_topic)\n\u001b[0;32m     54\u001b[0m \u001b[38;5;66;03m# Compare the results of the two models\u001b[39;00m\n\u001b[1;32m---> 55\u001b[0m \u001b[38;5;28mprint\u001b[39m(\u001b[38;5;124m\"\u001b[39m\u001b[38;5;124mAzure vs LDA: \u001b[39m\u001b[38;5;124m\"\u001b[39m, \u001b[43mazure_topics\u001b[49m\u001b[43m[\u001b[49m\u001b[38;5;241;43m0\u001b[39;49m\u001b[43m]\u001b[49m, lda_topic)\n",
      "\u001b[1;31mIndexError\u001b[0m: list index out of range"
     ]
    }
   ],
   "source": [
    "import requests\n",
    "import json\n",
    "\n",
    "# Azure Text Analytics API endpoint and key\n",
    "endpoint = \"https://azure-ml-ai900-william-31012023.cognitiveservices.azure.com/\"\n",
    "key = \"a82304f95ac14b63b28ed755ca46acb9\"\n",
    "\n",
    "# Texts to extract topics from\n",
    "texts = data['reviews']\n",
    "new_text = ['new text']\n",
    "\n",
    "# Call the Text Analytics API\n",
    "def extract_topics_azure(texts, endpoint, key):\n",
    "    topics = []\n",
    "    documents = {\"documents\": [{\"id\": i, \"text\": text} for i, text in enumerate(texts)]}\n",
    "    headers = {\n",
    "        'Ocp-Apim-Subscription-Key': key,\n",
    "        'Content-Type': 'application/json'\n",
    "    }\n",
    "    response = requests.post(endpoint, headers=headers, json=documents)\n",
    "    if response.status_code == 200:\n",
    "        response_json = response.json()\n",
    "        for document in response_json['documents']:\n",
    "            topics.append([topic['topic'][:10] for topic in document['topics']])\n",
    "    return topics\n",
    "\n",
    "# Extract topics using Azure Cognitive Services\n",
    "azure_topics = extract_topics_azure(texts + new_text, endpoint, key)\n",
    "\n",
    "# Print extracted topics using Azure Cognitive Services\n",
    "print(\"Azure topics: \", azure_topics)\n",
    "\n",
    "# Extract topics using Latent Dirichlet Allocation (LDA)\n",
    "from sklearn.decomposition import LatentDirichletAllocation\n",
    "from sklearn.feature_extraction.text import CountVectorizer\n",
    "\n",
    "# Transform texts to a Bag-of-Words representation\n",
    "vectorizer = CountVectorizer()\n",
    "X = vectorizer.fit_transform(texts)\n",
    "\n",
    "# Train an LDA model\n",
    "lda = LatentDirichletAllocation(n_components=3, learning_method='online', random_state=0)\n",
    "lda.fit(X)\n",
    "\n",
    "# Vectorize the new text\n",
    "new_text_vectorized = vectorizer.transform(new_text)\n",
    "\n",
    "# Predict the topic of the new text\n",
    "topic_distribution = lda.transform(new_text_vectorized)\n",
    "print(\"LDA topic distribution: \", topic_distribution)\n",
    "lda_topic = topic_distribution.argmax()\n",
    "print(\"LDA topic: \", lda_topic)\n",
    "\n",
    "# Compare the results of the two models\n",
    "print(\"Azure vs LDA: \", azure_topics[0], lda_topic)"
   ]
  },
  {
   "cell_type": "markdown",
   "metadata": {},
   "source": [
    "⚠️ Please push the exercise once you are done 🙃\n",
    "\n",
    "## 🏁 "
   ]
  }
 ],
 "metadata": {
  "kernelspec": {
   "display_name": "Python 3 (ipykernel)",
   "language": "python",
   "name": "python3"
  },
  "language_info": {
   "codemirror_mode": {
    "name": "ipython",
    "version": 3
   },
   "file_extension": ".py",
   "mimetype": "text/x-python",
   "name": "python",
   "nbconvert_exporter": "python",
   "pygments_lexer": "ipython3",
   "version": "3.9.12"
  },
  "toc": {
   "base_numbering": 1,
   "nav_menu": {},
   "number_sections": false,
   "sideBar": true,
   "skip_h1_title": false,
   "title_cell": "Table of Contents",
   "title_sidebar": "Contents",
   "toc_cell": false,
   "toc_position": {},
   "toc_section_display": true,
   "toc_window_display": true
  }
 },
 "nbformat": 4,
 "nbformat_minor": 4
}
